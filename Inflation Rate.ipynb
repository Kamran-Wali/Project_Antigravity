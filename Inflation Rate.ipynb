{
 "cells": [
  {
   "cell_type": "code",
   "execution_count": 48,
   "metadata": {},
   "outputs": [],
   "source": [
    "import json\n",
    "import requests\n",
    "import pandas as pd\n",
    "from pprint import pprint\n",
    "from config import api_key\n",
    "import matplotlib.pyplot as plt"
   ]
  },
  {
   "cell_type": "code",
   "execution_count": 49,
   "metadata": {},
   "outputs": [],
   "source": [
    "url = \"https://www.quandl.com/api/v3/datasets/YALE/SPCOMP.json?\"\n",
    "\n",
    "query_url = f'{url}api_key={api_key}'\n",
    "\n",
    "testing = requests.get(query_url).json()"
   ]
  },
  {
   "cell_type": "code",
   "execution_count": 50,
   "metadata": {},
   "outputs": [],
   "source": [
    "# pprint(testing)"
   ]
  },
  {
   "cell_type": "code",
   "execution_count": 51,
   "metadata": {},
   "outputs": [],
   "source": [
    "stock_data = pd.DataFrame(testing[\"dataset\"][\"data\"])\n",
    "stock_clean = stock_data.rename(columns = {0: \"Monthly Tracking\", 1:\"S&P Composite\", 2: \"Dividend\", 3:\"Earnings\", 4:\"CPI\",\n",
    "                                                 5: \"Long Interest Rate\", 6:\"Real Price\", 7:\"Real Dividend\", 8:\"Real Earning\",\n",
    "                                                 9: \"Cyclically Adjusted PE Ratio\"})\n",
    "# stock_clean"
   ]
  },
  {
   "cell_type": "code",
   "execution_count": 52,
   "metadata": {},
   "outputs": [],
   "source": [
    "stock_clean = stock_clean.fillna(0)"
   ]
  },
  {
   "cell_type": "code",
   "execution_count": 53,
   "metadata": {},
   "outputs": [
    {
     "data": {
      "text/html": [
       "<div>\n",
       "<style scoped>\n",
       "    .dataframe tbody tr th:only-of-type {\n",
       "        vertical-align: middle;\n",
       "    }\n",
       "\n",
       "    .dataframe tbody tr th {\n",
       "        vertical-align: top;\n",
       "    }\n",
       "\n",
       "    .dataframe thead th {\n",
       "        text-align: right;\n",
       "    }\n",
       "</style>\n",
       "<table border=\"1\" class=\"dataframe\">\n",
       "  <thead>\n",
       "    <tr style=\"text-align: right;\">\n",
       "      <th></th>\n",
       "      <th>Monthly Tracking</th>\n",
       "      <th>S&amp;P Composite</th>\n",
       "      <th>Dividend</th>\n",
       "      <th>Earnings</th>\n",
       "      <th>CPI</th>\n",
       "      <th>Long Interest Rate</th>\n",
       "      <th>Real Price</th>\n",
       "      <th>Real Dividend</th>\n",
       "      <th>Real Earning</th>\n",
       "      <th>Cyclically Adjusted PE Ratio</th>\n",
       "    </tr>\n",
       "  </thead>\n",
       "  <tbody>\n",
       "    <tr>\n",
       "      <th>104</th>\n",
       "      <td>2010-01-31</td>\n",
       "      <td>1123.58</td>\n",
       "      <td>22.240000</td>\n",
       "      <td>54.290000</td>\n",
       "      <td>216.687</td>\n",
       "      <td>3.73</td>\n",
       "      <td>1306.784565</td>\n",
       "      <td>25.866328</td>\n",
       "      <td>63.142219</td>\n",
       "      <td>20.527860</td>\n",
       "    </tr>\n",
       "    <tr>\n",
       "      <th>103</th>\n",
       "      <td>2010-02-28</td>\n",
       "      <td>1089.16</td>\n",
       "      <td>22.070000</td>\n",
       "      <td>57.610000</td>\n",
       "      <td>216.741</td>\n",
       "      <td>3.69</td>\n",
       "      <td>1266.436631</td>\n",
       "      <td>25.662213</td>\n",
       "      <td>66.986865</td>\n",
       "      <td>19.920539</td>\n",
       "    </tr>\n",
       "    <tr>\n",
       "      <th>102</th>\n",
       "      <td>2010-03-31</td>\n",
       "      <td>1152.05</td>\n",
       "      <td>21.900000</td>\n",
       "      <td>60.930000</td>\n",
       "      <td>217.631</td>\n",
       "      <td>3.73</td>\n",
       "      <td>1334.084762</td>\n",
       "      <td>25.360406</td>\n",
       "      <td>70.557514</td>\n",
       "      <td>21.004601</td>\n",
       "    </tr>\n",
       "    <tr>\n",
       "      <th>101</th>\n",
       "      <td>2010-04-30</td>\n",
       "      <td>1197.32</td>\n",
       "      <td>21.946667</td>\n",
       "      <td>62.986667</td>\n",
       "      <td>218.009</td>\n",
       "      <td>3.85</td>\n",
       "      <td>1384.103820</td>\n",
       "      <td>25.370381</td>\n",
       "      <td>72.812687</td>\n",
       "      <td>21.804846</td>\n",
       "    </tr>\n",
       "    <tr>\n",
       "      <th>100</th>\n",
       "      <td>2010-05-31</td>\n",
       "      <td>1125.06</td>\n",
       "      <td>21.993333</td>\n",
       "      <td>65.043333</td>\n",
       "      <td>218.178</td>\n",
       "      <td>3.42</td>\n",
       "      <td>1299.563727</td>\n",
       "      <td>25.404635</td>\n",
       "      <td>75.131954</td>\n",
       "      <td>20.480069</td>\n",
       "    </tr>\n",
       "  </tbody>\n",
       "</table>\n",
       "</div>"
      ],
      "text/plain": [
       "    Monthly Tracking  S&P Composite   Dividend   Earnings      CPI  \\\n",
       "104       2010-01-31        1123.58  22.240000  54.290000  216.687   \n",
       "103       2010-02-28        1089.16  22.070000  57.610000  216.741   \n",
       "102       2010-03-31        1152.05  21.900000  60.930000  217.631   \n",
       "101       2010-04-30        1197.32  21.946667  62.986667  218.009   \n",
       "100       2010-05-31        1125.06  21.993333  65.043333  218.178   \n",
       "\n",
       "     Long Interest Rate   Real Price  Real Dividend  Real Earning  \\\n",
       "104                3.73  1306.784565      25.866328     63.142219   \n",
       "103                3.69  1266.436631      25.662213     66.986865   \n",
       "102                3.73  1334.084762      25.360406     70.557514   \n",
       "101                3.85  1384.103820      25.370381     72.812687   \n",
       "100                3.42  1299.563727      25.404635     75.131954   \n",
       "\n",
       "     Cyclically Adjusted PE Ratio  \n",
       "104                     20.527860  \n",
       "103                     19.920539  \n",
       "102                     21.004601  \n",
       "101                     21.804846  \n",
       "100                     20.480069  "
      ]
     },
     "execution_count": 53,
     "metadata": {},
     "output_type": "execute_result"
    }
   ],
   "source": [
    "# Getting information from the table\n",
    "stock_present = stock_clean.loc[stock_clean[\"Monthly Tracking\"] >=\"2010-01-31\"]\n",
    "stock_present = stock_present.sort_values(\"Monthly Tracking\", ascending=True)\n",
    "stock_present.head()"
   ]
  },
  {
   "cell_type": "code",
   "execution_count": 54,
   "metadata": {},
   "outputs": [
    {
     "data": {
      "image/png": "[encoded data removed]",
      "text/plain": [
       "<Figure size 432x288 with 1 Axes>"
      ]
     },
     "metadata": {},
     "output_type": "display_data"
    },
    {
     "data": {
      "image/png": "[encoded data removed]",
      "text/plain": [
       "<Figure size 432x288 with 1 Axes>"
      ]
     },
     "metadata": {},
     "output_type": "display_data"
    }
   ],
   "source": [
    "stock_present.plot(kind=\"line\", x=\"Monthly Tracking\", y=\"CPI\")\n",
    "stock_present.plot(kind=\"line\", x=\"Monthly Tracking\", y=\"Cyclically Adjusted PE Ratio\")\n",
    "plt.show()"
   ]
  },
  {
   "cell_type": "code",
   "execution_count": null,
   "metadata": {},
   "outputs": [],
   "source": []
  },
  {
   "cell_type": "code",
   "execution_count": null,
   "metadata": {},
   "outputs": [],
   "source": []
  }
 ],
 "metadata": {
  "kernelspec": {
   "display_name": "Python [default]",
   "language": "python",
   "name": "python3"
  },
  "language_info": {
   "codemirror_mode": {
    "name": "ipython",
    "version": 3
   },
   "file_extension": ".py",
   "mimetype": "text/x-python",
   "name": "python",
   "nbconvert_exporter": "python",
   "pygments_lexer": "ipython3",
   "version": "3.6.5"
  }
 },
 "nbformat": 4,
 "nbformat_minor": 2
}
