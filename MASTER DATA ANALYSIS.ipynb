{
 "cells": [
  {
   "cell_type": "code",
   "execution_count": 1,
   "metadata": {},
   "outputs": [],
   "source": [
    "#Imports for Median Income Analysis\n",
    "%matplotlib inline\n",
    "import pandas as pd\n",
    "import numpy as np\n",
    "import matplotlib.pyplot as plt"
   ]
  },
  {
   "cell_type": "code",
   "execution_count": null,
   "metadata": {},
   "outputs": [],
   "source": [
    "#Median Income Analysis\n",
    "#Load CSV\n",
    "file_to_load = \"TotalHousing.csv\"\n",
    "housing_data = pd.read_csv(file_to_load)\n",
    "\n",
    "#Remove extraneous rows\n",
    "update_housing_df=housing_data.drop(housing_data.index[19:52])\n",
    "\n",
    "#Remove repeated rows\n",
    "new_housing=update_housing_df.drop(update_housing_df.index[4])\n",
    "\n",
    "#Check data types\n",
    "new_housing.dtypes\n",
    "\n",
    "#Plot figure\n",
    "plt.figure(figsize=(10,8))\n",
    "x_axis=new_housing[\"Year\"]\n",
    "y_axis=new_housing[\"Estimate\"]\n",
    "plt.plot(x_axis,y_axis,marker=\"o\")\n",
    "plt.xlim(2000,2018)\n",
    "plt.ylim(50000,62000)\n",
    "plt.title(\"Household Median Income 2000-2018\")\n",
    "plt.xlabel(\"Year\")\n",
    "plt.ylabel(\"Median Income(USD)\")\n",
    "plt.show()\n",
    "\n",
    "#Save Figure\n",
    "    #plt.savefig(\"House Median Income.png\")\n",
    "\n",
    "#Percent Change\n"
   ]
  }
 ],
 "metadata": {
  "kernelspec": {
   "display_name": "Python [conda env:PythonData]",
   "language": "python",
   "name": "conda-env-PythonData-py"
  },
  "language_info": {
   "codemirror_mode": {
    "name": "ipython",
    "version": 3
   },
   "file_extension": ".py",
   "mimetype": "text/x-python",
   "name": "python",
   "nbconvert_exporter": "python",
   "pygments_lexer": "ipython3",
   "version": "3.6.5"
  }
 },
 "nbformat": 4,
 "nbformat_minor": 2
}
